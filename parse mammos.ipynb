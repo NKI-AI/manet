{
 "cells": [
  {
   "cell_type": "code",
   "execution_count": 1,
   "metadata": {},
   "outputs": [],
   "source": [
    "import os, string \n",
    "from pathlib import Path\n",
    "import pydicom as dicom\n",
    "from tqdm import tqdm_notebook\n",
    "from pydicom.errors import InvalidDicomError\n",
    "import numpy as np\n",
    "import sys\n",
    "\n",
    "import logging\n",
    "logger = logging.getLogger('importer')"
   ]
  },
  {
   "cell_type": "code",
   "execution_count": 2,
   "metadata": {},
   "outputs": [],
   "source": [
    "from mammograpy_dicom_parser import find_dicoms, find_mammograms, make_patient_mapping"
   ]
  },
  {
   "cell_type": "code",
   "execution_count": 3,
   "metadata": {},
   "outputs": [
    {
     "name": "stderr",
     "output_type": "stream",
     "text": [
      "/data/archives/DCIS/DICOMS does not contain dicom files, but 5 other files.\n"
     ]
    },
    {
     "data": {
      "application/vnd.jupyter.widget-view+json": {
       "model_id": "ab161a5b4b8c4ca19ded2664b437fbe8",
       "version_major": 2,
       "version_minor": 0
      },
      "text/plain": [
       "HBox(children=(IntProgress(value=0, max=4220), HTML(value='')))"
      ]
     },
     "metadata": {},
     "output_type": "display_data"
    },
    {
     "name": "stderr",
     "output_type": "stream",
     "text": [
      "Failed to import /data/archives/DCIS/DICOMS/DICOMS_2006-2010/Pt 520 (Mw) A.30.0000520/19300603 (Hosp 1-MASTERPAGE)/DICOM/IM_000002.dcm with error: 'FileDataset' object has no attribute 'PixelData'\n",
      "Failed to import /data/archives/DCIS/DICOMS/DICOMS_2006-2010/Pt 520 (Mw) A.30.0000520/19300603 (Hosp 1-MASTERPAGE)/DICOM/IM_000004.dcm with error: 'FileDataset' object has no attribute 'PixelData'\n",
      "Failed to import /data/archives/DCIS/DICOMS/DICOMS_2006-2010/Pt 520 (Mw) A.30.0000520/19300603 (Hosp 1-MASTERPAGE)/DICOM/IM_000001.dcm with error: 'FileDataset' object has no attribute 'PixelData'\n",
      "Failed to import /data/archives/DCIS/DICOMS/DICOMS_2006-2010/Pt 520 (Mw) A.30.0000520/19300603 (Hosp 1-MASTERPAGE)/DICOM/IM_000003.dcm with error: 'FileDataset' object has no attribute 'PixelData'\n",
      "Failed to import /data/archives/DCIS/DICOMS/DICOMS_rareoriginalrange/Pt_125/IM_000002.dcm with error: File is missing DICOM File Meta Information header or the 'DICM' prefix is missing from the header. Use force=True to force reading.\n",
      "/data/archives/DCIS/DICOMS/DICOMS/Pt 77 (Mw) A.30.0000077/19481126 (Hosp 46-Selenia Dimensions)/DICOM_niet/IM_000001.dcm has view \"SPECIMEN\". Skipping.\n",
      "/data/archives/DCIS/DICOMS/DICOMS/Pt 446 (Mw) A.30.0000446/19580125 (Hosp 18-Lorad Selenia)/DICOM/IM_000001.dcm has view \"SPECIMEN\". Skipping.\n",
      "Failed to import /data/archives/DCIS/DICOMS/DICOMS/Pt 125 (Mw) A.30.0000125/19470811 (Hosp 14-ADC_5146)/DICOM/IM_000002-label.dcm with error: File is missing DICOM File Meta Information header or the 'DICM' prefix is missing from the header. Use force=True to force reading.\n",
      "Failed to import /data/archives/DCIS/DICOMS/DICOMS/Pt 125 (Mw) A.30.0000125/19470811 (Hosp 14-ADC_5146)/DICOM/IM_000002.dcm with error: File is missing DICOM File Meta Information header or the 'DICM' prefix is missing from the header. Use force=True to force reading.\n",
      "Failed to import /data/archives/DCIS/DICOMS/DICOMS/Pt 125 (Mw) A.30.0000125/20120723/DICOM/IM_000002.dcm with error: File is missing DICOM File Meta Information header or the 'DICM' prefix is missing from the header. Use force=True to force reading.\n"
     ]
    },
    {
     "name": "stdout",
     "output_type": "stream",
     "text": [
      "\n"
     ]
    }
   ],
   "source": [
    "path = '/data/archives/DCIS/'\n",
    "dicoms = find_dicoms(path)\n",
    "mammograms, patient_ids, failed_to_parse = find_mammograms(dicoms)\n",
    "\n",
    "with open('failed_to_parse.log', 'a') as f:\n",
    "    for line in failed_to_parse:\n",
    "        f.write(line + '\\n')\n"
   ]
  },
  {
   "cell_type": "code",
   "execution_count": 4,
   "metadata": {},
   "outputs": [],
   "source": [
    "mapping = make_patient_mapping(patient_ids)"
   ]
  },
  {
   "cell_type": "code",
   "execution_count": 47,
   "metadata": {},
   "outputs": [],
   "source": [
    "from collections import defaultdict\n",
    "\n",
    "def rewrite_structure(mammograms_dict, mapping):\n",
    "    studies_per_patient = defaultdict(list)\n",
    "    uid_mapping = {}\n",
    "    for fn in mammograms_dict:\n",
    "        study_instance_uid = mammograms_dict[fn]['StudyInstanceUID']\n",
    "        patient_id = mammograms_dict[fn]['PatientID']\n",
    "        if study_instance_uid not in studies_per_patient[patient_id]:\n",
    "            studies_per_patient[patient_id].append(study_instance_uid)\n",
    "            \n",
    "    for patient_id in studies_per_patient:\n",
    "        for idx, study_instance_uid in enumerate(studies_per_patient[patient_id]):\n",
    "            uid_mapping[study_instance_uid] = '{:2d}'.format(idx + 1).replace(' ', '0')\n",
    "        \n",
    "    return studies_per_patient, uid_mapping\n",
    "\n",
    "def create_temporary_file_structure(mammograms, new_path='/home/jonas/DCIS'):\n",
    "    for fn in mammograms:\n",
    "        patient_id = mammograms[fn]['PatientID']\n",
    "        study_instance_uid = mammograms[fn]['StudyInstanceUID']\n",
    "        folder_name = Path(mapping[patient_id] + uid_mapping[study_instance_uid])\n",
    "\n",
    "        f = new_path / folder_name\n",
    "        f.mkdir(exist_ok=True)\n",
    "        fn = Path(fn)\n",
    "        try:\n",
    "            os.symlink(fn, f / Path(fn.stem + fn.suffix))\n",
    "        except FileExistsError as e:\n",
    "             logger.info(f'Symlinking for {fn} already exists.')"
   ]
  },
  {
   "cell_type": "code",
   "execution_count": 48,
   "metadata": {},
   "outputs": [],
   "source": [
    "studies_per_patient, uid_mapping = rewrite_structure(mammograms, mapping)\n",
    "create_temporary_file_structure(mammograms)"
   ]
  },
  {
   "cell_type": "code",
   "execution_count": null,
   "metadata": {},
   "outputs": [],
   "source": []
  }
 ],
 "metadata": {
  "kernelspec": {
   "display_name": "Python 3",
   "language": "python",
   "name": "python3"
  },
  "language_info": {
   "codemirror_mode": {
    "name": "ipython",
    "version": 3
   },
   "file_extension": ".py",
   "mimetype": "text/x-python",
   "name": "python",
   "nbconvert_exporter": "python",
   "pygments_lexer": "ipython3",
   "version": "3.7.3"
  }
 },
 "nbformat": 4,
 "nbformat_minor": 2
}
